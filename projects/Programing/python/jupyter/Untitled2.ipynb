{
 "cells": [
  {
   "cell_type": "code",
   "execution_count": 1,
   "metadata": {},
   "outputs": [],
   "source": [
    "from statsmodels.graphics.tsaplots import plot_acf, plot_pacf\n",
    "import numpy as np\n",
    "\n",
    "dta=[10930,10318,10595,10972,7706,6756,9092,10551,9722,10913,11151,8186,6422,\n",
    "6337,11649,11652,10310,12043,7937,6476,9662,9570,9981,9331,9449,6773,6304,9355,\n",
    "10477,10148,10395,11261,8713,7299,10424,10795,11069,11602,11427,9095,7707,10767,\n",
    "12136,12812,12006,12528,10329,7818,11719,11683,12603,11495,13670,11337,10232,\n",
    "13261,13230,15535,16837,19598,14823,11622,19391,18177,19994,14723,15694,13248,\n",
    "9543,12872,13101,15053,12619,13749,10228,9725,14729,12518,14564,15085,14722,\n",
    "11999,9390,13481,14795,15845,15271,14686,11054,10395]\n",
    "\n",
    "vector = np.array(dta, dtype=np.float)"
   ]
  },
  {
   "cell_type": "code",
   "execution_count": 2,
   "metadata": {},
   "outputs": [
    {
     "name": "stderr",
     "output_type": "stream",
     "text": [
      "D:\\anoconda\\lib\\site-packages\\matplotlib\\figure.py:457: UserWarning: matplotlib is currently using a non-GUI backend, so cannot show the figure\n",
      "  \"matplotlib is currently using a non-GUI backend, \"\n"
     ]
    }
   ],
   "source": [
    "plot_acf(vector).show()"
   ]
  },
  {
   "cell_type": "code",
   "execution_count": null,
   "metadata": {},
   "outputs": [],
   "source": []
  }
 ],
 "metadata": {
  "kernelspec": {
   "display_name": "Python 2",
   "language": "python",
   "name": "python2"
  },
  "language_info": {
   "codemirror_mode": {
    "name": "ipython",
    "version": 2
   },
   "file_extension": ".py",
   "mimetype": "text/x-python",
   "name": "python",
   "nbconvert_exporter": "python",
   "pygments_lexer": "ipython2",
   "version": "2.7.16"
  }
 },
 "nbformat": 4,
 "nbformat_minor": 2
}
