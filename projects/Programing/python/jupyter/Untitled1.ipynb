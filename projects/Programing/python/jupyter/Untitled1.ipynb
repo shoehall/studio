{
 "cells": [
  {
   "cell_type": "code",
   "execution_count": 1,
   "metadata": {},
   "outputs": [
    {
     "ename": "ImportError",
     "evalue": "No module named 'statsmodels'",
     "output_type": "error",
     "traceback": [
      "\u001b[1;31m---------------------------------------------------------------------------\u001b[0m",
      "\u001b[1;31mImportError\u001b[0m                               Traceback (most recent call last)",
      "\u001b[1;32m<ipython-input-1-6b1c69c9cf06>\u001b[0m in \u001b[0;36m<module>\u001b[1;34m\u001b[0m\n\u001b[1;32m----> 1\u001b[1;33m \u001b[1;32mfrom\u001b[0m \u001b[0mstatsmodels\u001b[0m\u001b[1;33m.\u001b[0m\u001b[0mgraphics\u001b[0m\u001b[1;33m.\u001b[0m\u001b[0mtsaplots\u001b[0m \u001b[1;32mimport\u001b[0m \u001b[0mplot_acf\u001b[0m\u001b[1;33m,\u001b[0m \u001b[0mplot_pacf\u001b[0m\u001b[1;33m\u001b[0m\u001b[0m\n\u001b[0m\u001b[0;32m      2\u001b[0m \u001b[1;32mimport\u001b[0m \u001b[0mnumpy\u001b[0m \u001b[1;32mas\u001b[0m \u001b[0mnp\u001b[0m\u001b[1;33m\u001b[0m\u001b[0m\n\u001b[0;32m      3\u001b[0m \u001b[1;33m\u001b[0m\u001b[0m\n\u001b[0;32m      4\u001b[0m dta=[10930,10318,10595,10972,7706,6756,9092,10551,9722,10913,11151,8186,6422,\n\u001b[0;32m      5\u001b[0m \u001b[1;36m6337\u001b[0m\u001b[1;33m,\u001b[0m\u001b[1;36m11649\u001b[0m\u001b[1;33m,\u001b[0m\u001b[1;36m11652\u001b[0m\u001b[1;33m,\u001b[0m\u001b[1;36m10310\u001b[0m\u001b[1;33m,\u001b[0m\u001b[1;36m12043\u001b[0m\u001b[1;33m,\u001b[0m\u001b[1;36m7937\u001b[0m\u001b[1;33m,\u001b[0m\u001b[1;36m6476\u001b[0m\u001b[1;33m,\u001b[0m\u001b[1;36m9662\u001b[0m\u001b[1;33m,\u001b[0m\u001b[1;36m9570\u001b[0m\u001b[1;33m,\u001b[0m\u001b[1;36m9981\u001b[0m\u001b[1;33m,\u001b[0m\u001b[1;36m9331\u001b[0m\u001b[1;33m,\u001b[0m\u001b[1;36m9449\u001b[0m\u001b[1;33m,\u001b[0m\u001b[1;36m6773\u001b[0m\u001b[1;33m,\u001b[0m\u001b[1;36m6304\u001b[0m\u001b[1;33m,\u001b[0m\u001b[1;36m9355\u001b[0m\u001b[1;33m,\u001b[0m\u001b[1;33m\u001b[0m\u001b[0m\n",
      "\u001b[1;31mImportError\u001b[0m: No module named 'statsmodels'"
     ]
    }
   ],
   "source": [
    "from statsmodels.graphics.tsaplots import plot_acf, plot_pacf\n",
    "import numpy as np\n",
    "\n",
    "dta=[10930,10318,10595,10972,7706,6756,9092,10551,9722,10913,11151,8186,6422,\n",
    "6337,11649,11652,10310,12043,7937,6476,9662,9570,9981,9331,9449,6773,6304,9355,\n",
    "10477,10148,10395,11261,8713,7299,10424,10795,11069,11602,11427,9095,7707,10767,\n",
    "12136,12812,12006,12528,10329,7818,11719,11683,12603,11495,13670,11337,10232,\n",
    "13261,13230,15535,16837,19598,14823,11622,19391,18177,19994,14723,15694,13248,\n",
    "9543,12872,13101,15053,12619,13749,10228,9725,14729,12518,14564,15085,14722,\n",
    "11999,9390,13481,14795,15845,15271,14686,11054,10395]\n",
    "\n",
    "vector = np.array(dta, dtype=np.float)"
   ]
  },
  {
   "cell_type": "code",
   "execution_count": null,
   "metadata": {},
   "outputs": [],
   "source": [
    "plot_acf(vector).show()"
   ]
  }
 ],
 "metadata": {
  "kernelspec": {
   "display_name": "py3",
   "language": "python",
   "name": "py3"
  }
 },
 "nbformat": 4,
 "nbformat_minor": 2
}
