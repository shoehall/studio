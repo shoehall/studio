{
 "cells": [
  {
   "cell_type": "code",
   "execution_count": 2,
   "metadata": {},
   "outputs": [],
   "source": [
    "import pandas as pd"
   ]
  },
  {
   "cell_type": "code",
   "execution_count": 3,
   "metadata": {},
   "outputs": [
    {
     "name": "stdout",
     "output_type": "stream",
     "text": [
      "DatetimeIndex(['2014-01-01', '2016-01-01', '2018-01-01', '2020-01-01',\n",
      "               '2022-01-01', '2024-01-01', '2026-01-01', '2028-01-01',\n",
      "               '2030-01-01', '2032-01-01', '2034-01-01'],\n",
      "              dtype='datetime64[ns]', freq='2AS-JAN')\n",
      "DatetimeIndex(['2014-01-01', '2014-03-01', '2014-05-01', '2014-07-01',\n",
      "               '2014-09-01', '2014-11-01', '2015-01-01', '2015-03-01',\n",
      "               '2015-05-01', '2015-07-01', '2015-09-01'],\n",
      "              dtype='datetime64[ns]', freq='2MS')\n",
      "DatetimeIndex(['2014-01-01', '2014-01-03', '2014-01-05', '2014-01-07',\n",
      "               '2014-01-09', '2014-01-11', '2014-01-13', '2014-01-15',\n",
      "               '2014-01-17', '2014-01-19', '2014-01-21'],\n",
      "              dtype='datetime64[ns]', freq='2D')\n",
      "DatetimeIndex(['2014-01-01 00:00:00', '2014-01-01 02:00:00',\n",
      "               '2014-01-01 04:00:00', '2014-01-01 06:00:00',\n",
      "               '2014-01-01 08:00:00', '2014-01-01 10:00:00',\n",
      "               '2014-01-01 12:00:00', '2014-01-01 14:00:00',\n",
      "               '2014-01-01 16:00:00', '2014-01-01 18:00:00',\n",
      "               '2014-01-01 20:00:00'],\n",
      "              dtype='datetime64[ns]', freq='2H')\n",
      "DatetimeIndex(['2014-01-01 00:00:00', '2014-01-01 00:02:00',\n",
      "               '2014-01-01 00:04:00', '2014-01-01 00:06:00',\n",
      "               '2014-01-01 00:08:00', '2014-01-01 00:10:00',\n",
      "               '2014-01-01 00:12:00', '2014-01-01 00:14:00',\n",
      "               '2014-01-01 00:16:00', '2014-01-01 00:18:00',\n",
      "               '2014-01-01 00:20:00'],\n",
      "              dtype='datetime64[ns]', freq='2T')\n",
      "DatetimeIndex(['2014-01-01 00:00:00', '2014-01-01 00:00:02',\n",
      "               '2014-01-01 00:00:04', '2014-01-01 00:00:06',\n",
      "               '2014-01-01 00:00:08', '2014-01-01 00:00:10',\n",
      "               '2014-01-01 00:00:12', '2014-01-01 00:00:14',\n",
      "               '2014-01-01 00:00:16', '2014-01-01 00:00:18',\n",
      "               '2014-01-01 00:00:20'],\n",
      "              dtype='datetime64[ns]', freq='2S')\n"
     ]
    }
   ],
   "source": [
    "# date_range中时间单位的设定\n",
    "print pd.date_range('2014-01-01', periods=11, freq='2AS-JAN') # Y会以最后一日为时间\n",
    "print pd.date_range('2014-01-01', periods=11, freq='2MS') # M会以最后一日为时间\n",
    "print pd.date_range('2014-01-01', periods=11, freq='2D')\n",
    "print pd.date_range('2014-01-01', periods=11, freq='2h')\n",
    "print pd.date_range('2014-01-01', periods=11, freq='2min')\n",
    "print pd.date_range('2014-01-01', periods=11, freq='2S')"
   ]
  },
  {
   "cell_type": "code",
   "execution_count": 34,
   "metadata": {},
   "outputs": [
    {
     "name": "stdout",
     "output_type": "stream",
     "text": [
      "1954-01-01 00:00:00\n",
      "1954-01-01\n",
      "1954-01-01\n",
      "<class 'pandas._libs.tslibs.timestamps.Timestamp'>\n"
     ]
    }
   ],
   "source": [
    "# 将datetime64转为一般的datetime\n",
    "times=pd.date_range('1954', periods=11, freq='1AS-JAN')\n",
    "time_format = \"%Y-%m-%d\"\n",
    "print(times[0].to_pydatetime())\n",
    "print(datetime.strftime(times[0].to_pydatetime(), time_format))\n",
    "print(times[0].strftime(time_format))\n",
    "print(type(times[0]))"
   ]
  },
  {
   "cell_type": "code",
   "execution_count": 7,
   "metadata": {},
   "outputs": [
    {
     "name": "stdout",
     "output_type": "stream",
     "text": [
      "True\n",
      "False\n",
      "False\n"
     ]
    }
   ],
   "source": []
  }
 ],
 "metadata": {
  "kernelspec": {
   "display_name": "Python 2",
   "language": "python",
   "name": "python2"
  },
  "language_info": {
   "codemirror_mode": {
    "name": "ipython",
    "version": 2
   },
   "file_extension": ".py",
   "mimetype": "text/x-python",
   "name": "python",
   "nbconvert_exporter": "python",
   "pygments_lexer": "ipython2",
   "version": "2.7.16"
  }
 },
 "nbformat": 4,
 "nbformat_minor": 2
}
