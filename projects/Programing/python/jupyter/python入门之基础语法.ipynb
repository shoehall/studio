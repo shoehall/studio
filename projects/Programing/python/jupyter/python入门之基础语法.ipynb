{
 "cells": [
  {
   "cell_type": "code",
   "execution_count": 6,
   "metadata": {},
   "outputs": [
    {
     "name": "stdout",
     "output_type": "stream",
     "text": [
      "int\n"
     ]
    }
   ],
   "source": [
    "num = 0\n",
    "# if isinstance(num, str) and (',' in num): not run\n",
    "if isinstance(num, str) and (',' in num): # and如果前面正确才会执行后面, 但&不会, or和|亦然\n",
    "    print('exist')\n",
    "elif isinstance(num, int) and (num < 1):\n",
    "    print('int')\n",
    "else:\n",
    "    print('other')"
   ]
  }
 ],
 "metadata": {
  "kernelspec": {
   "display_name": "Python 2",
   "language": "python",
   "name": "python2"
  },
  "language_info": {
   "codemirror_mode": {
    "name": "ipython",
    "version": 2
   },
   "file_extension": ".py",
   "mimetype": "text/x-python",
   "name": "python",
   "nbconvert_exporter": "python",
   "pygments_lexer": "ipython2",
   "version": "2.7.16"
  }
 },
 "nbformat": 4,
 "nbformat_minor": 2
}
